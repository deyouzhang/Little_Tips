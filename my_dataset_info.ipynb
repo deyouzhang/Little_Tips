{
 "cells": [
  {
   "cell_type": "code",
   "execution_count": null,
   "metadata": {},
   "outputs": [],
   "source": [
    "def my_dataset_info(x_train, y_train, x_test=None, y_test=None):\n",
    "    print('x_train shape: ', x_train.shape)  # (55000, 28, 28)\n",
    "    print('x_train type: ', type(x_train))  # <class 'numpy.ndarray'>\n",
    "\n",
    "    print('x_train[0]是什么？', x_train[0])  # 一个 28 * 28 的数组\n",
    "    print('x_train[0] shape: ', x_train[0].shape)  # (28, 28)\n",
    "    print('x_train[0] type: ', type(x_train[0]))  # <class 'numpy.uint8'>\n",
    "\n",
    "    print('\\n以上是 x ，先整体后个体。整体的shape, type, 第0 个元素的具体值，元素的shape 和 type.\\n')\n",
    "\n",
    "    print('y_train shape: ', y_train.shape)  # (55000,)\n",
    "    print('y_train type: ', type(y_train))  # <class 'numpy.ndarray'>\n",
    "\n",
    "    print('前面100个y_train', y_train[0:100])  # 0\n",
    "\n",
    "    print('y_train[0]是什么？', y_train[0])  # 4\n",
    "    print('y_train[0] shape: ', y_train[0].shape)  # ()\n",
    "    print('y_train[0] type: ', type(y_train[0]))  # <class 'numpy.uint8'>\n",
    "    \n",
    "    if x_test is not None:\n",
    "        print('\\n\\nup is the train data, the following is the x_test data\\n\\n')\n",
    "\n",
    "        print('x_test shape: ', x_test.shape)  # (55000, 28, 28)\n",
    "        print('x_test type: ', type(x_test))  # <class 'numpy.ndarray'>\n",
    "\n",
    "        print('x_test[0]是什么？', x_test[0])  # 一个 28 * 28 的数组\n",
    "        print('x_test[0] shape: ', x_test[0].shape)  # (28, 28)\n",
    "        print('x_test[0] type: ', type(x_test[0]))  # <class 'numpy.uint8'>\n",
    "        print('\\n以上是 x_test ,，先整体后个体。整体的shape, type, 第0 个元素的具体值，元素的shape 和 type.\\n')\n",
    "\n",
    "    if y_test is not None:\n",
    "        print('\\n以下是 y_test ,c，先整体后个体。整体的shape, type, 第0 个元素的具体值，元素的shape 和 type.\\n')\n",
    "\n",
    "        print('y_test shape: ', y_test.shape)  # (55000,)\n",
    "        print('y_test type: ', type(y_test))  # <class 'numpy.ndarray'>\n",
    "\n",
    "        print('前面100个y_train', y_test[0:100])  # 0\n",
    "\n",
    "        print('y_test[0]是什么？', y_test[0])  # 4\n",
    "        print('y_test[0] shape: ', y_test[0].shape)  # ()\n",
    "        print('y_test[0] type: ', type(y_test[0]))  # <class 'numpy.uint8'>\n",
    "    \n",
    "    \n",
    "    \n",
    "\n",
    "my_dataset_info(x_train, y_train, y_test = y_test)"
   ]
  }
 ],
 "metadata": {
  "kernelspec": {
   "display_name": "Python 3",
   "language": "python",
   "name": "python3"
  },
  "language_info": {
   "codemirror_mode": {
    "name": "ipython",
    "version": 3
   },
   "file_extension": ".py",
   "mimetype": "text/x-python",
   "name": "python",
   "nbconvert_exporter": "python",
   "pygments_lexer": "ipython3",
   "version": "3.7.4"
  }
 },
 "nbformat": 4,
 "nbformat_minor": 2
}
